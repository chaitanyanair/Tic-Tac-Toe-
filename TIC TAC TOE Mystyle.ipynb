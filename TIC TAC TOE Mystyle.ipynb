{
 "cells": [
  {
   "cell_type": "code",
   "execution_count": 1,
   "metadata": {},
   "outputs": [],
   "source": [
    "# Function to take inputs from Player one and Player Two\n",
    "def player_input():\n",
    "\n",
    "    while True:\n",
    "        marker = input(\"Player 1: Choose X or O: \").upper()\n",
    "        if marker == 'X':\n",
    "            return ('X','O')\n",
    "        elif marker == 'O':\n",
    "            return ('O','X')\n",
    "        else: \n",
    "            print (\"Your choice is incorrect Player 1, please choose either X or O\")\n",
    "            continue      \n",
    "              "
   ]
  },
  {
   "cell_type": "code",
   "execution_count": 2,
   "metadata": {},
   "outputs": [],
   "source": [
    "def place_marker(board, marker, position):\n",
    "    board[position] = marker "
   ]
  },
  {
   "cell_type": "code",
   "execution_count": 3,
   "metadata": {},
   "outputs": [],
   "source": [
    "from IPython.display import clear_output\n",
    "\n",
    "def display_board(board):\n",
    "    clear_output()  # Remember, this only works in jupyter!\n",
    "    \n",
    "    print('   |   |')\n",
    "    print(' ' + board[7] + ' | ' + board[8] + ' | ' + board[9])\n",
    "    print('   |   |')\n",
    "    print('-----------')\n",
    "    print('   |   |')\n",
    "    print(' ' + board[4] + ' | ' + board[5] + ' | ' + board[6])\n",
    "    print('   |   |')\n",
    "    print('-----------')\n",
    "    print('   |   |')\n",
    "    print(' ' + board[1] + ' | ' + board[2] + ' | ' + board[3])\n",
    "    print('   |   |')"
   ]
  },
  {
   "cell_type": "code",
   "execution_count": 5,
   "metadata": {},
   "outputs": [],
   "source": [
    "# Function to check if a Mark has won \n",
    "\n",
    "def win_check(board, mark):\n",
    "    return ((board[1] == mark and board[2] == mark and board[3] == mark) or \n",
    "        (board[4] == mark and board[5] == mark and board[6] == mark) or \n",
    "        (board[7] == mark and board[8] == mark and board[9] == mark) or\n",
    "        (board[1] == mark and board[5] == mark and board[9] == mark) or\n",
    "        (board[3] == mark and board[5] == mark and board[7] == mark) or\n",
    "        (board[1] == mark and board[4] == mark and board[7] == mark) or\n",
    "        (board[2] == mark and board[5] == mark and board[8] == mark) or \n",
    "        (board[3] == mark and board[6] == mark and board[9] == mark))"
   ]
  },
  {
   "cell_type": "code",
   "execution_count": 6,
   "metadata": {},
   "outputs": [],
   "source": [
    "import random\n",
    "def choose_first():\n",
    "    rand = random.randint(0,1)\n",
    "    if rand == 0:\n",
    "        return \"Player 1\"\n",
    "    else:\n",
    "        return \"Player 2\""
   ]
  },
  {
   "cell_type": "code",
   "execution_count": 7,
   "metadata": {},
   "outputs": [],
   "source": [
    "def space_check(board, position):\n",
    "    return board[position] == ' '"
   ]
  },
  {
   "cell_type": "code",
   "execution_count": 8,
   "metadata": {},
   "outputs": [],
   "source": [
    "def full_board_check(board):\n",
    "    for index in range(1,10):\n",
    "        if space_check(board,index):\n",
    "            return False\n",
    "    return True"
   ]
  },
  {
   "cell_type": "code",
   "execution_count": 9,
   "metadata": {},
   "outputs": [],
   "source": [
    "def player_choice(board):\n",
    "    position = 0 \n",
    "    while position not in [1,2,3,4,5,6,7,8,9] or not space_check(board, position):\n",
    "        position = int(input('Choose your next position: (1-9) '))\n",
    "        \n",
    "    return position "
   ]
  },
  {
   "cell_type": "code",
   "execution_count": 10,
   "metadata": {},
   "outputs": [],
   "source": [
    "def replay():    \n",
    "    return input('Do you want to play again? Enter Yes or No: ').lower().startswith('y')"
   ]
  },
  {
   "cell_type": "code",
   "execution_count": 11,
   "metadata": {},
   "outputs": [
    {
     "name": "stdout",
     "output_type": "stream",
     "text": [
      "   |   |\n",
      " O |   | X\n",
      "   |   |\n",
      "-----------\n",
      "   |   |\n",
      "   | O | X\n",
      "   |   |\n",
      "-----------\n",
      "   |   |\n",
      " O |   | X\n",
      "   |   |\n",
      "Player 1 has won!!!\n",
      "Do you want to play again? Enter Yes or No: n\n"
     ]
    }
   ],
   "source": [
    "# While loop to keep running the game\n",
    "\n",
    "print('Welcome to Tic Tac Toe!')\n",
    "\n",
    "while True:\n",
    "   # Play the game\n",
    "    \n",
    "    \n",
    "    ## Set everything up (The board, whos first, the markers X,O)\n",
    "    \n",
    "    the_board = [' ']*10\n",
    "    \n",
    "    #choose the markers \n",
    "    player1_marker,player2_marker = player_input()\n",
    "    \n",
    "    # choose who goes first \n",
    "    turn = choose_first()\n",
    "    print(turn + \" will go first\")\n",
    "    \n",
    "    # boolean to check if user is ready to play\n",
    "    play_game = input(\"Ready to play? y or n?\")\n",
    "    if play_game == 'y':\n",
    "        game_on = True\n",
    "    else:\n",
    "        game_on = False\n",
    "        \n",
    "    ## Play the game \n",
    "    \n",
    "    while game_on: \n",
    "        \n",
    "        # Player 1's turn \n",
    "        if turn == 'Player 1':\n",
    "        \n",
    "            # display the board\n",
    "            display_board(the_board)            \n",
    "            \n",
    "            # ask the player to choose the position            \n",
    "            position = player_choice(the_board)\n",
    "            \n",
    "            # place the marker on the chosen position\n",
    "            place_marker(the_board,player1_marker,position)\n",
    "            \n",
    "            # check if its a win\n",
    "            if win_check(the_board,player1_marker):\n",
    "                display_board(the_board)\n",
    "                print(\"Player 1 has won!!!\")\n",
    "                game_on = False\n",
    "            else:\n",
    "                # check if its a tie\n",
    "                if full_board_check(the_board):\n",
    "                    display_board(the_board)\n",
    "                    print('TIE GAME!')\n",
    "                    game_on = False\n",
    "                else:\n",
    "                    # no win or no tie, then player2's turn\n",
    "                    turn = 'Player 2'\n",
    "                      \n",
    "        ### Player 2's turn\n",
    "        else:\n",
    "             # display the board\n",
    "            display_board(the_board)            \n",
    "            \n",
    "            # ask the player to choose the position            \n",
    "            position = player_choice(the_board)\n",
    "            \n",
    "            # place the marker on the chosen position\n",
    "            place_marker(the_board,player2_marker,position)\n",
    "            \n",
    "            # check if its a win\n",
    "            if win_check(the_board,player2_marker):\n",
    "                display_board(the_board)\n",
    "                print(\"Player 2 has won!!!\")\n",
    "                game_on = False\n",
    "            else:\n",
    "                # check if its a tie\n",
    "                if full_board_check(the_board):\n",
    "                    display_board(the_board)\n",
    "                    print('TIE GAME!')\n",
    "                    game_on = False\n",
    "                else:\n",
    "                    # no win or no tie, then player1's turn\n",
    "                    turn = 'Player 1'\n",
    "\n",
    "    if not replay():\n",
    "        break\n",
    "\n",
    "# break out the while loop using replay()\n"
   ]
  },
  {
   "cell_type": "code",
   "execution_count": null,
   "metadata": {},
   "outputs": [],
   "source": []
  },
  {
   "cell_type": "code",
   "execution_count": null,
   "metadata": {},
   "outputs": [],
   "source": []
  }
 ],
 "metadata": {
  "kernelspec": {
   "display_name": "Python 3",
   "language": "python",
   "name": "python3"
  },
  "language_info": {
   "codemirror_mode": {
    "name": "ipython",
    "version": 3
   },
   "file_extension": ".py",
   "mimetype": "text/x-python",
   "name": "python",
   "nbconvert_exporter": "python",
   "pygments_lexer": "ipython3",
   "version": "3.7.4"
  }
 },
 "nbformat": 4,
 "nbformat_minor": 2
}
